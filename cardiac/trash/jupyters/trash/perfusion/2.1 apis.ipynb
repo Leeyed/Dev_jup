{
 "cells": [
  {
   "cell_type": "code",
   "execution_count": 1,
   "metadata": {},
   "outputs": [],
   "source": [
    "import os\n",
    "import json\n",
    "import numpy as np"
   ]
  },
  {
   "cell_type": "code",
   "execution_count": 2,
   "metadata": {},
   "outputs": [],
   "source": [
    "from radismart.cardiac.perfusion.functions import gen_defect_extent_bull_eye_map, gen_defect_severity_bull_eye_map,gen_score_bull_eye\n",
    "from radismart.cardiac.perfusion.functions import cal_defect_extent, cal_defect_severity,cal_tdp,cal_categoric_scores"
   ]
  },
  {
   "cell_type": "code",
   "execution_count": 3,
   "metadata": {},
   "outputs": [],
   "source": [
    "cardiac_dir = os.path.dirname(os.path.dirname(os.getcwd()))\n",
    "normal_limits_dir = os.path.join(cardiac_dir, 'resource', 'perfusion', 'normal_limits')"
   ]
  },
  {
   "cell_type": "code",
   "execution_count": 4,
   "metadata": {},
   "outputs": [],
   "source": [
    "def load_segments(base_dir=os.path.join(cardiac_dir, 'resource', 'perfusion')):\n",
    "    segment17 = np.load(os.path.join(base_dir, 'segment17.npy')).astype(np.float32)\n",
    "    segment_coronary_artery = np.load(os.path.join(base_dir,  'segment_coronary_artery.npy')).astype(np.float32)\n",
    "    segment_myocardial_wall = np.load(os.path.join(base_dir,  'segment_myocardial_wall.npy')).astype(np.float32)\n",
    "\n",
    "    return segment17, segment_coronary_artery, segment_myocardial_wall\n",
    "\n",
    "\n",
    "def calculate_segment_categoric_scores(patient_be, limits_type='male_rest'):\n",
    "    normal_limits = np.load(os.path.join(normal_limits_dir,  f'{limits_type}_normal_limits.npy')).astype(np.float32)\n",
    "    # normal_limits_sd = np.load(os.path.join(normal_limits_dir,  f'{limits_type}_sd.npy')).astype(np.float32)\n",
    "\n",
    "    segment17, segment_coronary_artery, segment_myocardial_wall = load_segments()\n",
    "\n",
    "    categoric_score_bull_eye = gen_score_bull_eye(patient_be, normal_limits)\n",
    "    categoric_scores_seg17 = cal_categoric_scores(categoric_score_bull_eye, segment17)\n",
    "    categoric_scores_cor = cal_categoric_scores(categoric_score_bull_eye, segment_coronary_artery)\n",
    "    categoric_scores_myo = cal_categoric_scores(categoric_score_bull_eye, segment_myocardial_wall)\n",
    "    return {\n",
    "        \"Segment17Score\":categoric_scores_seg17,\n",
    "        \"SegmentConoraryScore\":categoric_scores_cor,\n",
    "        \"SegmentMyocardiumScore\":categoric_scores_myo\n",
    "    }\n",
    "\n",
    "\n",
    "\n",
    "\n",
    "\n"
   ]
  },
  {
   "cell_type": "code",
   "execution_count": 5,
   "metadata": {},
   "outputs": [
    {
     "data": {
      "text/plain": [
       "{'LCX': {'EXT': 12.23758320532514, 'TPD': 7.829227298498154},\n",
       " 'RCA': {'EXT': 12.785947712418299, 'TPD': 8.442959934473038},\n",
       " 'LAD': {'EXT': 16.049651567944252, 'TPD': 12.477333843708038},\n",
       " 'TOT': {'EXT': 14.333370399199378, 'TPD': 10.369706153869629}}"
      ]
     },
     "execution_count": 5,
     "metadata": {},
     "output_type": "execute_result"
    }
   ],
   "source": [
    "\n",
    "\n",
    "map_dict={\n",
    "    1.0: 'LCX', \n",
    "    2.0: 'RCA',\n",
    "    3.0: 'LAD',\n",
    "    'total': 'TOT'\n",
    "}\n",
    "\n",
    "def calculate_conorary_score(patient_be, limits_type='male_rest', info=map_dict):\n",
    "    normal_limits = np.load(os.path.join(normal_limits_dir,  f'{limits_type}_normal_limits.npy')).astype(np.float32)\n",
    "    normal_limits_sd = np.load(os.path.join(normal_limits_dir,  f'{limits_type}_sd.npy')).astype(np.float32)\n",
    "\n",
    "    segment17, segment_coronary_artery, segment_myocardial_wall = load_segments()\n",
    "\n",
    "    defect_extent_bull_eye = gen_defect_extent_bull_eye_map(patient_be, normal_limits)\n",
    "    defect_extent_dict_cor = cal_defect_extent(defect_extent_bull_eye, segment_coronary_artery)\n",
    "\n",
    "    score_bull_eye = gen_score_bull_eye(patient_be, normal_limits)\n",
    "    tpd_dict_cor = cal_tdp(score_bull_eye, segment_coronary_artery)\n",
    "\n",
    "    # print(defect_extent_dict_cor)\n",
    "    res = {}\n",
    "    for key, name in map_dict.items():\n",
    "        res[name] = {\n",
    "            'EXT': defect_extent_dict_cor.get(key),\n",
    "            'TPD': tpd_dict_cor.get(key)\n",
    "        }\n",
    "    return res\n",
    "\n",
    "\n",
    "\n",
    "\n",
    "import SimpleITK as sitk\n",
    "resource_path = '../../resource'\n",
    "os.path.exists(resource_path)\n",
    "\n",
    "commercial_software_gen_cad_bull_eye = sitk.GetArrayFromImage(sitk.ReadImage(os.path.join(resource_path, 'perfusion', 'BullEye_cad'))).astype(np.float32)[1]\n",
    "# normal_limits_bull_eye = np.load(os.path.join(resource_path, 'perfusion', 'normal_limits', 'male_rest_normal_limits.npy')).astype(np.float32)\n",
    "\n",
    "calculate_conorary_score(commercial_software_gen_cad_bull_eye)\n",
    "\n",
    "\n",
    "\n",
    "\n"
   ]
  },
  {
   "cell_type": "code",
   "execution_count": 6,
   "metadata": {},
   "outputs": [
    {
     "data": {
      "text/plain": [
       "{'Area': 105,\n",
       " 'Defect': 15.050038919159347,\n",
       " 'Extent': 14.333370399199378,\n",
       " 'TPD': 10.369706153869629}"
      ]
     },
     "execution_count": 6,
     "metadata": {},
     "output_type": "execute_result"
    }
   ],
   "source": [
    "def calculate_IschemiaResult(patient_be, limits_type='male_rest', info=map_dict):\n",
    "    res = calculate_conorary_score(patient_be, limits_type, info)\n",
    "    return {\n",
    "        'Area': 105,\n",
    "        'Defect': res['TOT']['EXT']*105/100,\n",
    "        'Extent': res['TOT']['EXT'],\n",
    "        'TPD': res['TOT']['TPD']\n",
    "    }\n",
    "    # return \n",
    "\n",
    "calculate_IschemiaResult(commercial_software_gen_cad_bull_eye)"
   ]
  },
  {
   "cell_type": "code",
   "execution_count": null,
   "metadata": {},
   "outputs": [],
   "source": []
  },
  {
   "cell_type": "code",
   "execution_count": null,
   "metadata": {},
   "outputs": [],
   "source": []
  }
 ],
 "metadata": {
  "kernelspec": {
   "display_name": "py312",
   "language": "python",
   "name": "python3"
  },
  "language_info": {
   "codemirror_mode": {
    "name": "ipython",
    "version": 3
   },
   "file_extension": ".py",
   "mimetype": "text/x-python",
   "name": "python",
   "nbconvert_exporter": "python",
   "pygments_lexer": "ipython3",
   "version": "3.12.7"
  }
 },
 "nbformat": 4,
 "nbformat_minor": 2
}
