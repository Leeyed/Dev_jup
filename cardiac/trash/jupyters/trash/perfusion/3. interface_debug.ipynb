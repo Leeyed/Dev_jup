{
 "cells": [
  {
   "cell_type": "code",
   "execution_count": 2,
   "metadata": {},
   "outputs": [],
   "source": [
    "# {\"Perfusion\": {\n",
    "#       \"BE\": {}, // 牛眼图\n",
    "#       \"Segment17Score\": [],\n",
    "#       \"SegmentConoraryScore\": [],\n",
    "#       \"SegmentMyocardiumScore\": []\n",
    "#     },\n",
    "#     \"Extent\": {},  // 同Perfusion\n",
    "#     \"Severity\": {},  // 同Perfusion\n",
    "#     \"ConoraryScore\": {\n",
    "#       \"LAD\": {\n",
    "#         \"EXT\": 25, \n",
    "#         \"TPD\": 10.0\n",
    "#       },\n",
    "#       \"LCX\": {}, // 同上\n",
    "#       \"RCA\": {},\n",
    "#       \"TOT\": {}\n",
    "#     },\n",
    "# }\n",
    "\n",
    "# {\"PerfusionScore\": {\n",
    "#     \"Stress\": {}, // 同Perfusion\n",
    "#     \"Rest\": {},  // 同Perfusion\n",
    "#     \"Ischemia\": {},  // 同Perfusion\n",
    "#     \"IschemiaResult\":{\n",
    "#       \"Area\": 105,\n",
    "#       \"Defect\": 17,\n",
    "#       \"Extent\": 16,\n",
    "#       \"TPD\": 13\n",
    "#     }\n",
    "#   }, \n",
    "# }"
   ]
  },
  {
   "cell_type": "code",
   "execution_count": 1,
   "metadata": {},
   "outputs": [
    {
     "data": {
      "text/plain": [
       "{'Segment17Score': [0, 0, 0, 0, 0, 0, 0, 0, 0, 2, 2, 0, 0, 0, 0, 0, 2.0],\n",
       " 'SegmentConoraryScore': [0, 0, 0],\n",
       " 'SegmentMyocardiumScore': [0, 0, 0, 0, 2.0]}"
      ]
     },
     "execution_count": 1,
     "metadata": {},
     "output_type": "execute_result"
    }
   ],
   "source": [
    "import os\n",
    "import numpy as np\n",
    "import SimpleITK as sitk\n",
    "\n",
    "\n",
    "from radismart.cardiac.perfusion.interface import calculate_segment_categoric_scores, calculate_conorary_score, calculate_IschemiaResult\n",
    "\n",
    "\n",
    "resource_path = '../../resource'\n",
    "commercial_software_gen_cad_bull_eye = sitk.GetArrayFromImage(sitk.ReadImage(os.path.join(resource_path, 'perfusion', 'BullEye_cad'))).astype(np.float32)[1]\n",
    "\n",
    "calculate_segment_categoric_scores(commercial_software_gen_cad_bull_eye)"
   ]
  },
  {
   "cell_type": "code",
   "execution_count": 10,
   "metadata": {},
   "outputs": [
    {
     "data": {
      "text/plain": [
       "{'LCX': {'EXT': 12.23758320532514, 'TPD': 7.829227298498154},\n",
       " 'RCA': {'EXT': 12.785947712418299, 'TPD': 8.442959934473038},\n",
       " 'LAD': {'EXT': 16.049651567944252, 'TPD': 12.477333843708038},\n",
       " 'TOT': {'EXT': 14.333370399199378, 'TPD': 10.369706153869629}}"
      ]
     },
     "execution_count": 10,
     "metadata": {},
     "output_type": "execute_result"
    }
   ],
   "source": [
    "calculate_conorary_score(commercial_software_gen_cad_bull_eye)"
   ]
  },
  {
   "cell_type": "code",
   "execution_count": 11,
   "metadata": {},
   "outputs": [
    {
     "data": {
      "text/plain": [
       "{'Area': 105,\n",
       " 'Defect': 15.050038919159347,\n",
       " 'Extent': 14.333370399199378,\n",
       " 'TPD': 10.369706153869629}"
      ]
     },
     "execution_count": 11,
     "metadata": {},
     "output_type": "execute_result"
    }
   ],
   "source": [
    "calculate_IschemiaResult(commercial_software_gen_cad_bull_eye)"
   ]
  },
  {
   "cell_type": "code",
   "execution_count": null,
   "metadata": {},
   "outputs": [],
   "source": []
  }
 ],
 "metadata": {
  "kernelspec": {
   "display_name": "py312",
   "language": "python",
   "name": "python3"
  },
  "language_info": {
   "codemirror_mode": {
    "name": "ipython",
    "version": 3
   },
   "file_extension": ".py",
   "mimetype": "text/x-python",
   "name": "python",
   "nbconvert_exporter": "python",
   "pygments_lexer": "ipython3",
   "version": "3.12.7"
  }
 },
 "nbformat": 4,
 "nbformat_minor": 2
}
