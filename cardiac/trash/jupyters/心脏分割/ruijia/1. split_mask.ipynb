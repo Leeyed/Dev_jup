{
 "cells": [
  {
   "cell_type": "code",
   "execution_count": 4,
   "metadata": {},
   "outputs": [],
   "source": [
    "import os\n",
    "import matplotlib.pyplot as plt\n",
    "import SimpleITK as sitk\n",
    "import numpy as np"
   ]
  },
  {
   "cell_type": "code",
   "execution_count": null,
   "metadata": {},
   "outputs": [
    {
     "name": "stdout",
     "output_type": "stream",
     "text": [
      "(49, 87, 75)\n"
     ]
    }
   ],
   "source": [
    "filepath = \"./Patient0003_CT.nii.gz\"\n",
    "\n",
    "sitk_img = sitk.ReadImage(filepath)\n",
    "img_arr = sitk.GetArrayFromImage(sitk_img)\n",
    "\n"
   ]
  },
  {
   "cell_type": "code",
   "execution_count": 9,
   "metadata": {},
   "outputs": [
    {
     "name": "stdout",
     "output_type": "stream",
     "text": [
      "(51, 89, 77)\n"
     ]
    }
   ],
   "source": [
    "filt = img_arr == 1\n",
    "img_arr[~filt] = 0\n",
    "\n",
    "\n",
    "coords = np.argwhere(img_arr)\n",
    "\n",
    "# 获取边界索引\n",
    "min_z, min_y, min_x = coords.min(axis=0)\n",
    "max_z, max_y, max_x = coords.max(axis=0)\n",
    "\n",
    "# 裁剪出最小内接矩形\n",
    "cropped_mask = img_arr[min_z-1:max_z+2, min_y-1:max_y+2, min_x-1:max_x+2]\n",
    "\n",
    "print(cropped_mask.shape)"
   ]
  },
  {
   "cell_type": "code",
   "execution_count": 11,
   "metadata": {},
   "outputs": [],
   "source": [
    "sitk_out = sitk.GetImageFromArray(cropped_mask)\n",
    "\n",
    "sitk.WriteImage(sitk_out, 'out.nii.gz')"
   ]
  },
  {
   "cell_type": "code",
   "execution_count": null,
   "metadata": {},
   "outputs": [],
   "source": []
  }
 ],
 "metadata": {
  "kernelspec": {
   "display_name": "py311",
   "language": "python",
   "name": "python3"
  },
  "language_info": {
   "codemirror_mode": {
    "name": "ipython",
    "version": 3
   },
   "file_extension": ".py",
   "mimetype": "text/x-python",
   "name": "python",
   "nbconvert_exporter": "python",
   "pygments_lexer": "ipython3",
   "version": "3.11.11"
  }
 },
 "nbformat": 4,
 "nbformat_minor": 2
}
