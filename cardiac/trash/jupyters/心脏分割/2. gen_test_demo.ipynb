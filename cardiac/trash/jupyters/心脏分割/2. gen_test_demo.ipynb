{
 "cells": [
  {
   "cell_type": "code",
   "execution_count": 64,
   "metadata": {},
   "outputs": [],
   "source": [
    "import pydicom\n",
    "\n",
    "import matplotlib.pyplot as plt\n",
    "import SimpleITK as sitk\n",
    "import pydicom\n",
    "import numpy as np\n",
    "import os\n",
    "from glob import glob\n",
    "\n",
    "from pydicom.dataset import FileMetaDataset\n",
    "\n",
    "from pydicom.uid import UID\n",
    "\n",
    "\n",
    "import numpy as np\n",
    "import pydicom\n",
    "from pydicom.dataset import Dataset, FileDataset\n",
    "from pydicom.uid import ImplicitVRLittleEndian, ExplicitVRLittleEndian\n",
    "import time"
   ]
  },
  {
   "cell_type": "code",
   "execution_count": 65,
   "metadata": {},
   "outputs": [
    {
     "name": "stdout",
     "output_type": "stream",
     "text": [
      "转换完成, DICOM 文件已保存到 /mnt/labnas/DataCollection/Project/RadiSmart/cardiac/gate_recon_dicom/0_gate.dcm\n"
     ]
    }
   ],
   "source": [
    "def nii_to_single_dicom(nii_path_list, dicom_output_path, template_dicom_path=\"heart-dicom-rest-gate.dcm\"):\n",
    "    \n",
    "    image_array = np.zeros((648, 80, 80), dtype=np.float32)\n",
    "    for i, nii_path in enumerate(nii_path_list):\n",
    "        # 读取 NIfTI 文件\n",
    "        image = sitk.ReadImage(nii_path)\n",
    "        image_array[i*81: (i+1)*81] = sitk.GetArrayFromImage(image)  # (Z, Y, X)\n",
    "    \n",
    "    image_array = image_array.astype(np.uint16)\n",
    "\n",
    "    # 创建文件元数据\n",
    "    file_meta = pydicom.dataset.FileMetaDataset()\n",
    "    file_meta.TransferSyntaxUID = ExplicitVRLittleEndian  # 设置传输语法为 Explicit VR Little Endian\n",
    "\n",
    "    # 创建 FileDataset 对象\n",
    "    ds = FileDataset(dicom_output_path, {}, file_meta=file_meta, preamble=b\"\\0\" * 128)\n",
    "\n",
    "    # 设置一些基本 DICOM 标签（可以根据需求调整）\n",
    "    ds.PatientName = \"Test^Patient\"\n",
    "    ds.PatientID = \"123456\"\n",
    "    ds.StudyInstanceUID = \"1.2.3.4\"\n",
    "    ds.SeriesInstanceUID = \"1.2.3.5\"\n",
    "    ds.SOPInstanceUID = \"1.2.3.6\"\n",
    "    ds.Modality = \"SPECT\"\n",
    "    ds.Manufacturer = \"My Manufacturer\"\n",
    "\n",
    "    # 设置图像数据（存储为原始的 float32）\n",
    "    ds.PixelData = image_array.tobytes()\n",
    "\n",
    "    # 设定图像的元数据\n",
    "    ds.NumberOfSlices, ds.Rows, ds.Columns = image_array.shape  # 更新为 3D 图像的行数、列数和切片数\n",
    "    ds.SamplesPerPixel = 1\n",
    "    ds.PhotometricInterpretation = \"MONOCHROME2\"  # 或者 \"RGB\" 依据图像类型\n",
    "\n",
    "    # # 添加缺失的 DICOM 标签\n",
    "    # ds.BitsAllocated = 32  # 设置为 float32 类型\n",
    "    # ds.BitsStored = 32    # 存储 32 位\n",
    "    # ds.HighBit = 31       # 高位位置\n",
    "    # ds.PixelSpacing = [1.0, 1.0]  # 仅作示例，依据需求设置\n",
    "    # ds.PixelRepresentation = 0  # 对于 float32，它是浮点类型，通常无符号\n",
    "    \n",
    "    # 添加缺失的 DICOM 标签\n",
    "    ds.BitsAllocated = 16  # 设置为 uint16 类型\n",
    "    ds.BitsStored = 16    # 存储 16 位\n",
    "    ds.HighBit = 15       # 高位位置\n",
    "    ds.PixelSpacing = [1.0, 1.0, 1.0]  # 仅作示例，依据需求设置\n",
    "    ds.PixelRepresentation = 0  # 对于 uint16，它是无符号整数类型\n",
    "\n",
    "    # 保存为 DICOM 文件\n",
    "    ds.save_as(dicom_output_path)\n",
    "    print(f\"转换完成, DICOM 文件已保存到 {dicom_output_path}\")\n",
    "\n",
    "\n",
    "base_dir = \"/mnt/labnas/DataCollection/Project/RadiSmart/cardiac/gate_recon\"\n",
    "dst_dir = \"/mnt/labnas/DataCollection/Project/RadiSmart/cardiac/gate_recon_dicom\"\n",
    "\n",
    "\n",
    "for i in range(10):\n",
    "    nii_path_list = glob(os.path.join(base_dir, f\"{i}_*_i5.nii.gz\"))\n",
    "    \n",
    "    nii_path_list = sorted(nii_path_list)\n",
    "    out_filepath = os.path.join(dst_dir, f\"{i}_gate.dcm\")\n",
    "    # out_filepath = os.path.join(f\"{i}_gate.dcm\")\n",
    "    nii_to_single_dicom(nii_path_list, out_filepath)\n",
    "    break"
   ]
  },
  {
   "cell_type": "code",
   "execution_count": 69,
   "metadata": {},
   "outputs": [],
   "source": [
    "\n",
    "dicom_path = \"heart-dicom-rest-gate.dcm\"\n",
    "ds1 = pydicom.dcmread(dicom_path)"
   ]
  },
  {
   "cell_type": "code",
   "execution_count": 72,
   "metadata": {},
   "outputs": [
    {
     "data": {
      "text/plain": [
       "((648, 80, 80), dtype('float32'))"
      ]
     },
     "execution_count": 72,
     "metadata": {},
     "output_type": "execute_result"
    }
   ],
   "source": [
    "ds1.pixel_array.shape, ds1.pixel_array.dtype"
   ]
  },
  {
   "cell_type": "code",
   "execution_count": null,
   "metadata": {},
   "outputs": [
    {
     "name": "stdout",
     "output_type": "stream",
     "text": [
      "False\n"
     ]
    },
    {
     "ename": "ValueError",
     "evalue": "Unsupported ndarray dtype 'float32', must be int8, int16, uint8 or uint16",
     "output_type": "error",
     "traceback": [
      "\u001b[0;31m---------------------------------------------------------------------------\u001b[0m",
      "\u001b[0;31mValueError\u001b[0m                                Traceback (most recent call last)",
      "Cell \u001b[0;32mIn[81], line 6\u001b[0m\n\u001b[1;32m      4\u001b[0m \u001b[38;5;28;01mdel\u001b[39;00m ds1[\u001b[38;5;241m0x7FE0\u001b[39m,\u001b[38;5;241m0x0008\u001b[39m]\n\u001b[1;32m      5\u001b[0m \u001b[38;5;28mprint\u001b[39m([\u001b[38;5;241m0x7FE0\u001b[39m,\u001b[38;5;241m0x0008\u001b[39m] \u001b[38;5;129;01min\u001b[39;00m ds1)\n\u001b[0;32m----> 6\u001b[0m \u001b[43mpydicom\u001b[49m\u001b[38;5;241;43m.\u001b[39;49m\u001b[43mpixels\u001b[49m\u001b[38;5;241;43m.\u001b[39;49m\u001b[43mset_pixel_data\u001b[49m\u001b[43m(\u001b[49m\u001b[43mds1\u001b[49m\u001b[43m,\u001b[49m\u001b[43m \u001b[49m\u001b[43marr\u001b[49m\u001b[43m,\u001b[49m\u001b[43m \u001b[49m\u001b[38;5;124;43m\"\u001b[39;49m\u001b[38;5;124;43mMONOCHROME2\u001b[39;49m\u001b[38;5;124;43m\"\u001b[39;49m\u001b[43m,\u001b[49m\u001b[43m \u001b[49m\u001b[38;5;241;43m32\u001b[39;49m\u001b[43m)\u001b[49m\n\u001b[1;32m      8\u001b[0m ds1\u001b[38;5;241m.\u001b[39mremove_private_tags\n",
      "File \u001b[0;32m~/miniconda3/envs/py311/lib/python3.11/site-packages/pydicom/pixels/utils.py:1828\u001b[0m, in \u001b[0;36mset_pixel_data\u001b[0;34m(ds, arr, photometric_interpretation, bits_stored, generate_instance_uid)\u001b[0m\n\u001b[1;32m   1826\u001b[0m shape, ndim, dtype \u001b[38;5;241m=\u001b[39m arr\u001b[38;5;241m.\u001b[39mshape, arr\u001b[38;5;241m.\u001b[39mndim, arr\u001b[38;5;241m.\u001b[39mdtype\n\u001b[1;32m   1827\u001b[0m \u001b[38;5;28;01mif\u001b[39;00m dtype\u001b[38;5;241m.\u001b[39mkind \u001b[38;5;129;01mnot\u001b[39;00m \u001b[38;5;129;01min\u001b[39;00m (\u001b[38;5;124m\"\u001b[39m\u001b[38;5;124mu\u001b[39m\u001b[38;5;124m\"\u001b[39m, \u001b[38;5;124m\"\u001b[39m\u001b[38;5;124mi\u001b[39m\u001b[38;5;124m\"\u001b[39m) \u001b[38;5;129;01mor\u001b[39;00m dtype\u001b[38;5;241m.\u001b[39mitemsize \u001b[38;5;129;01mnot\u001b[39;00m \u001b[38;5;129;01min\u001b[39;00m (\u001b[38;5;241m1\u001b[39m, \u001b[38;5;241m2\u001b[39m):\n\u001b[0;32m-> 1828\u001b[0m     \u001b[38;5;28;01mraise\u001b[39;00m \u001b[38;5;167;01mValueError\u001b[39;00m(\n\u001b[1;32m   1829\u001b[0m         \u001b[38;5;124mf\u001b[39m\u001b[38;5;124m\"\u001b[39m\u001b[38;5;124mUnsupported ndarray dtype \u001b[39m\u001b[38;5;124m'\u001b[39m\u001b[38;5;132;01m{\u001b[39;00mdtype\u001b[38;5;132;01m}\u001b[39;00m\u001b[38;5;124m'\u001b[39m\u001b[38;5;124m, must be int8, int16, uint8 or \u001b[39m\u001b[38;5;124m\"\u001b[39m\n\u001b[1;32m   1830\u001b[0m         \u001b[38;5;124m\"\u001b[39m\u001b[38;5;124muint16\u001b[39m\u001b[38;5;124m\"\u001b[39m\n\u001b[1;32m   1831\u001b[0m     )\n\u001b[1;32m   1833\u001b[0m \u001b[38;5;66;03m# Use `photometric_interpretation` to determine *Samples Per Pixel*\u001b[39;00m\n\u001b[1;32m   1834\u001b[0m \u001b[38;5;66;03m# Don't support retired (such as CMYK) or inappropriate values (such as YBR_RCT)\u001b[39;00m\n\u001b[1;32m   1835\u001b[0m interpretations: \u001b[38;5;28mdict\u001b[39m[\u001b[38;5;28mstr\u001b[39m, \u001b[38;5;28mint\u001b[39m] \u001b[38;5;241m=\u001b[39m {\n\u001b[1;32m   1836\u001b[0m     PI\u001b[38;5;241m.\u001b[39mMONOCHROME1: \u001b[38;5;241m1\u001b[39m,\n\u001b[1;32m   1837\u001b[0m     PI\u001b[38;5;241m.\u001b[39mMONOCHROME2: \u001b[38;5;241m1\u001b[39m,\n\u001b[0;32m   (...)\u001b[0m\n\u001b[1;32m   1841\u001b[0m     PI\u001b[38;5;241m.\u001b[39mYBR_FULL_422: \u001b[38;5;241m3\u001b[39m,\n\u001b[1;32m   1842\u001b[0m }\n",
      "\u001b[0;31mValueError\u001b[0m: Unsupported ndarray dtype 'float32', must be int8, int16, uint8 or uint16"
     ]
    }
   ],
   "source": [
    "arr = np.zeros((648, 80, 80), dtype=np.float32)\n",
    "\n",
    "# ds1.\n",
    "del ds1[0x7FE0,0x0008]\n",
    "# print([0x7FE0,0x0008] in ds1)\n",
    "pydicom.pixels.set_pixel_data(ds1, arr, \"MONOCHROME2\", 32)\n",
    "\n",
    "ds1.remove_private_tags"
   ]
  },
  {
   "cell_type": "code",
   "execution_count": 68,
   "metadata": {},
   "outputs": [],
   "source": [
    "# filename = \"out32.dcm\"\n",
    "\n",
    "dicom_path = \"heart-dicom-rest-gate.dcm\"\n",
    "ds1 = pydicom.dcmread(dicom_path)\n",
    "\n",
    "ds = FileDataset(filename, {}, file_meta=ds1.file_meta, preamble=b\"\\0\" * 128)\n",
    "\n",
    "nii_path_list = glob(os.path.join(base_dir, f\"{i}_*_i5.nii.gz\"))\n",
    "nii_path_list = sorted(nii_path_list)\n",
    "\n",
    "image_array = np.zeros((648, 80, 80), dtype=np.float32)\n",
    "for i, nii_path in enumerate(nii_path_list):\n",
    "    # 读取 NIfTI 文件\n",
    "    image = sitk.ReadImage(nii_path)\n",
    "    image_array[i*81: (i+1)*81] = sitk.GetArrayFromImage(image)  # (Z, Y, X)\n",
    "\n"
   ]
  },
  {
   "cell_type": "code",
   "execution_count": null,
   "metadata": {},
   "outputs": [],
   "source": []
  },
  {
   "cell_type": "code",
   "execution_count": 60,
   "metadata": {},
   "outputs": [
    {
     "data": {
      "text/plain": [
       "(0002,0000) File Meta Information Group Length  UL: 178\n",
       "(0002,0001) File Meta Information Version       OB: b'\\x00\\x01'\n",
       "(0002,0002) Media Storage SOP Class UID         UI: Secondary Capture Image Storage\n",
       "(0002,0003) Media Storage SOP Instance UID      UI: 2.25.199861141585367010503236253734849631363\n",
       "(0002,0010) Transfer Syntax UID                 UI: Explicit VR Little Endian\n",
       "(0002,0012) Implementation Class UID            UI: 1.3.6.1.4.1.30071.8\n",
       "(0002,0013) Implementation Version Name         SH: 'fo-dicom 5.1.3'"
      ]
     },
     "execution_count": 60,
     "metadata": {},
     "output_type": "execute_result"
    }
   ],
   "source": [
    "dicom_path = \"heart-dicom-rest-gate.dcm\"\n",
    "ds1 = pydicom.dcmread(dicom_path)\n",
    "\n",
    "ds1.file_meta\n"
   ]
  },
  {
   "cell_type": "code",
   "execution_count": 62,
   "metadata": {},
   "outputs": [
    {
     "data": {
      "text/plain": [
       "(0002,0010) Transfer Syntax UID                 UI: Explicit VR Little Endian"
      ]
     },
     "execution_count": 62,
     "metadata": {},
     "output_type": "execute_result"
    }
   ],
   "source": [
    "# 读取 DICOM 文件\n",
    "dicom_path = \"/mnt/labnas/DataCollection/Project/RadiSmart/cardiac/gate_recon_dicom/0_gate.dcm\"\n",
    "ds2 = pydicom.dcmread(dicom_path)\n",
    "\n",
    "ds2.file_meta"
   ]
  },
  {
   "cell_type": "code",
   "execution_count": null,
   "metadata": {},
   "outputs": [],
   "source": []
  }
 ],
 "metadata": {
  "kernelspec": {
   "display_name": "py311",
   "language": "python",
   "name": "python3"
  },
  "language_info": {
   "codemirror_mode": {
    "name": "ipython",
    "version": 3
   },
   "file_extension": ".py",
   "mimetype": "text/x-python",
   "name": "python",
   "nbconvert_exporter": "python",
   "pygments_lexer": "ipython3",
   "version": "3.11.11"
  }
 },
 "nbformat": 4,
 "nbformat_minor": 2
}
