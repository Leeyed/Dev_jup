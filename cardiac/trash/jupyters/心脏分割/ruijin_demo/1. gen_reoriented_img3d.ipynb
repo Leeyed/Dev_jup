{
 "cells": [
  {
   "cell_type": "code",
   "execution_count": 1,
   "metadata": {},
   "outputs": [],
   "source": [
    "import os\n",
    "import cv2\n",
    "import scipy\n",
    "import numpy as np\n",
    "import SimpleITK as sitk\n",
    "import matplotlib.pyplot as plt"
   ]
  },
  {
   "cell_type": "code",
   "execution_count": 2,
   "metadata": {},
   "outputs": [],
   "source": [
    "base_dir = r'/mnt/labnas/DataCollection/Project/RadiSmart/cardiac/healthy'\n",
    "\n",
    "dst_dir = r'/mnt/labnas/DataCollection/Project/RadiSmart/cardiac/healthy_nii'"
   ]
  },
  {
   "cell_type": "code",
   "execution_count": 3,
   "metadata": {},
   "outputs": [
    {
     "name": "stdout",
     "output_type": "stream",
     "text": [
      "409 CardView Results STRESS_FBP(G)_SA\n",
      "(9, 20, 19, 20)\n",
      "161 CardView Results STRESS_FBP(G)_SA\n",
      "(9, 20, 17, 20)\n",
      "1088 CardView Results STRESS_FBP(G)_SA\n",
      "(9, 20, 19, 20)\n",
      "108 CardView Results STRESS_FBP(G)_SA\n",
      "(9, 20, 19, 20)\n",
      "1004 CardView Results STRESS_FBP(G)_SA\n",
      "(9, 20, 21, 20)\n"
     ]
    }
   ],
   "source": [
    "for pid in os.listdir(base_dir):\n",
    "    pid_dir = os.path.join(base_dir, pid)\n",
    "    for filename in os.listdir(pid_dir):\n",
    "        dicom_path = os.path.join(pid_dir, filename)\n",
    "        # print('dicom_path', dicom_path)\n",
    "        \n",
    "        try:\n",
    "            # 如果是单个 DICOM 文件\n",
    "            sitk_img = sitk.ReadImage(dicom_path)\n",
    "            \n",
    "            title = sitk_img.GetMetaData('0008|103e')\n",
    "            type_name = sitk_img.GetMetaData('0054|0400')\n",
    "        except:\n",
    "            continue\n",
    "        \n",
    "\n",
    "        # if title == \"CARDIAC SPECT\" and \"SA\" in type_name:\n",
    "        if not (\"CardView Results\" == title and \"SA\" in type_name):\n",
    "            continue\n",
    "        \n",
    "        print(filename, title, type_name)\n",
    "        \n",
    "        out_dir = os.path.join(dst_dir, pid)\n",
    "        if not os.path.exists(out_dir):\n",
    "            os.makedirs(out_dir)\n",
    "        \n",
    "        img_arr = sitk.GetArrayFromImage(sitk_img)\n",
    "        nb, height, width = img_arr.shape\n",
    "        reshape_arr = img_arr.reshape(nb, height, -1, 20)\n",
    "        print(reshape_arr.shape)\n",
    "        \n",
    "        # 将 NumPy 数组转换为 SimpleITK Image\n",
    "        out_img = sitk.GetImageFromArray(reshape_arr, isVector=False)  # SimpleITK 处理 (T, Z, Y, X)\n",
    "\n",
    "        # 设定体素间距，必须是 4 个值 (X, Y, Z, T)\n",
    "        out_img.SetSpacing((1.0, 1.0, 1.0, 1.0))  # 时间间隔设置为 1.0\n",
    "\n",
    "        # 保存为 NIfTI\n",
    "        sitk.WriteImage(out_img, os.path.join(out_dir, f\"{filename}_SA.nii.gz\"))\n",
    "        sitk.WriteImage(out_img, f\"{filename}_From_SA.nii.gz\")\n",
    "        \n",
    "        _, xs, ys, zs = reshape_arr.shape\n",
    "        factor = 3\n",
    "        scale_arr = np.zeros((nb, xs*factor, ys*factor, zs*factor))\n",
    "        for i in range(nb):\n",
    "            scale_arr[i] = scipy.ndimage.zoom(reshape_arr[i], factor, order=1) # order=1 表示双线性插值\n",
    "        \n",
    "        scale_arr\n",
    "        # 将 NumPy 数组转换为 SimpleITK Image\n",
    "        out_img2 = sitk.GetImageFromArray(scale_arr, isVector=False)  # SimpleITK 处理 (T, Z, Y, X)\n",
    "\n",
    "        # 设定体素间距，必须是 4 个值 (X, Y, Z, T)\n",
    "        out_img2.SetSpacing((1.0, 1.0, 1.0, 1.0))  # 时间间隔设置为 1.0\n",
    "\n",
    "        # 保存为 NIfTI\n",
    "        sitk.WriteImage(out_img2, os.path.join(out_dir, f\"{filename}_From_SA_scaled.nii.gz\"))\n",
    "        \n",
    "        \n",
    "    # break\n",
    "\n",
    "\n",
    "\n",
    "\n"
   ]
  },
  {
   "cell_type": "code",
   "execution_count": null,
   "metadata": {},
   "outputs": [],
   "source": []
  },
  {
   "cell_type": "code",
   "execution_count": null,
   "metadata": {},
   "outputs": [],
   "source": []
  }
 ],
 "metadata": {
  "kernelspec": {
   "display_name": "py311",
   "language": "python",
   "name": "python3"
  },
  "language_info": {
   "codemirror_mode": {
    "name": "ipython",
    "version": 3
   },
   "file_extension": ".py",
   "mimetype": "text/x-python",
   "name": "python",
   "nbconvert_exporter": "python",
   "pygments_lexer": "ipython3",
   "version": "3.11.11"
  }
 },
 "nbformat": 4,
 "nbformat_minor": 2
}
