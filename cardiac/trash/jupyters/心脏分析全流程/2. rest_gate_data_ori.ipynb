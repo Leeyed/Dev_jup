{
 "cells": [
  {
   "cell_type": "code",
   "execution_count": 1,
   "metadata": {},
   "outputs": [],
   "source": [
    "import numpy as np\n",
    "import pickle\n",
    "import SimpleITK as sitk\n",
    "import matplotlib.pyplot as plt\n",
    "\n",
    "from cardiac import cadc_load, cadc_locate,cadc_reorient, cadc_generate, cadc_segment, cadc_integrate,cadc_perfusion\n",
    "\n",
    "from cardiac.cadc_interface import compute_cardiac_gate_function"
   ]
  },
  {
   "cell_type": "code",
   "execution_count": 2,
   "metadata": {},
   "outputs": [
    {
     "name": "stdout",
     "output_type": "stream",
     "text": [
      "dict_keys(['Image', 'ROIInfo', 'Limits']) {'X': 80, 'Y': 80, 'Z': 81}\n",
      "{'X': 6.64, 'Y': 6.64, 'Z': 6.64}\n"
     ]
    }
   ],
   "source": [
    "with open(r'/home/liusheng/worksapce2024/Projects/RadiSmart/jupyters/心脏分析全流程/post_data/4.rest_g.pickle', 'rb') as f2:\n",
    "    ipt_data = pickle.load(f2)\n",
    "\n",
    "rst_data = ipt_data[\"Rest\"]\n",
    "\n",
    "print(rst_data.keys(), rst_data[\"Image\"][\"Meta\"][\"Shape\"])\n",
    "print(rst_data[\"Image\"][\"Meta\"][\"PixelSize\"])"
   ]
  },
  {
   "cell_type": "code",
   "execution_count": 3,
   "metadata": {},
   "outputs": [
    {
     "name": "stdout",
     "output_type": "stream",
     "text": [
      "21.201868\n",
      "50.0\n"
     ]
    }
   ],
   "source": [
    "# compute_cardiac_full_process_1\n",
    "\n",
    "ogn_img, com_img, img_sz, px_sz, car_idx, frm, limits = cadc_load.load_cardiac_gate_data(rst_data)\n",
    "\n",
    "print(ogn_img.max())\n",
    "print(com_img.max())\n",
    "# print(img_sz, px_sz, car_idx, frm, limits)"
   ]
  },
  {
   "cell_type": "code",
   "execution_count": 4,
   "metadata": {},
   "outputs": [],
   "source": [
    "car_com_img, car_bidx, spr_dict, car_ofs, car_idx = (\n",
    "            cadc_locate.determinate_cardiac_area(com_img, car_idx, px_sz))"
   ]
  },
  {
   "cell_type": "code",
   "execution_count": 5,
   "metadata": {},
   "outputs": [],
   "source": [
    "la_agl_xy, la_agl_z, axhl_dict, axvl_dict = cadc_reorient.determinate_cardiac_axes(car_com_img, car_idx)"
   ]
  },
  {
   "cell_type": "code",
   "execution_count": 6,
   "metadata": {},
   "outputs": [],
   "source": [
    "rst_data['ROIInfo'] = {\"AxisHL\": axhl_dict, \"AxisVL\": axvl_dict, \"Sphere\": spr_dict}\n",
    "zs, ys, xs = car_com_img.shape\n",
    "car_img = np.zeros((frm, zs, ys, xs), dtype=np.float32)\n",
    "hfl, hfw = int(ys / 2), int(xs / 2)\n",
    "yc, xc = spr_dict['Y'], spr_dict['X']\n",
    "\n",
    "# 直接切片取值不就行了...\n",
    "for j in range(frm):\n",
    "    for i in range(car_bidx, car_bidx + zs):\n",
    "        car_img[j, i - car_bidx, :, :] = ogn_img[j, i, yc - hfl: yc + hfl, xc - hfw: xc + hfw]"
   ]
  },
  {
   "cell_type": "code",
   "execution_count": 7,
   "metadata": {},
   "outputs": [],
   "source": [
    "sa_com_img, vla_com_img, hla_com_img, sa_img_dict, vla_img_dict, hla_img_dict, vtc_img_dict, hrz_img_dict = \\\n",
    "        (cadc_generate.generate_three_views_locate_images(com_img, car_com_img, la_agl_xy, la_agl_z, px_sz, car_ofs))"
   ]
  },
  {
   "cell_type": "code",
   "execution_count": 8,
   "metadata": {},
   "outputs": [],
   "source": [
    "sa_scl_img, sa_msk_img, sa_3d_msk_img, ctr_dict, lv_inf = (\n",
    "    cadc_segment.segment_short_and_long_axis_images_1(sa_com_img, vla_com_img, hla_com_img))"
   ]
  },
  {
   "cell_type": "code",
   "execution_count": 9,
   "metadata": {},
   "outputs": [],
   "source": [
    "sa_msk_img_dict = cadc_generate.output_images_information(sa_3d_msk_img.astype('<u2'), sa_img_dict[\"Meta\"]['Affine'],\n",
    "                                                            px_sz, 1, '<u2')"
   ]
  },
  {
   "cell_type": "code",
   "execution_count": 10,
   "metadata": {},
   "outputs": [],
   "source": [
    "bul_img = cadc_integrate.generate_bull_eye_image(sa_scl_img, sa_msk_img, lv_inf, px_sz)"
   ]
  },
  {
   "cell_type": "code",
   "execution_count": 11,
   "metadata": {},
   "outputs": [],
   "source": [
    "pfs_dict, ext_dict, svr_dict, cnr_sc_dict = cadc_perfusion.cal_perfusion_function(bul_img, 6, px_sz)"
   ]
  },
  {
   "cell_type": "code",
   "execution_count": 12,
   "metadata": {},
   "outputs": [
    {
     "name": "stdout",
     "output_type": "stream",
     "text": [
      "cpt_idx (8, 19)\n",
      "opt_ctr_idx 15\n",
      "scl_img (24, 64, 64) (24, 64, 64)\n"
     ]
    }
   ],
   "source": [
    "lv_fuc_dict = compute_cardiac_gate_function(car_img, la_agl_xy, la_agl_z, px_sz, lv_inf, sa_img_dict[\"Meta\"]['Affine'])"
   ]
  },
  {
   "cell_type": "code",
   "execution_count": null,
   "metadata": {},
   "outputs": [],
   "source": []
  }
 ],
 "metadata": {
  "kernelspec": {
   "display_name": "base",
   "language": "python",
   "name": "python3"
  },
  "language_info": {
   "codemirror_mode": {
    "name": "ipython",
    "version": 3
   },
   "file_extension": ".py",
   "mimetype": "text/x-python",
   "name": "python",
   "nbconvert_exporter": "python",
   "pygments_lexer": "ipython3",
   "version": "3.9.12"
  }
 },
 "nbformat": 4,
 "nbformat_minor": 2
}
