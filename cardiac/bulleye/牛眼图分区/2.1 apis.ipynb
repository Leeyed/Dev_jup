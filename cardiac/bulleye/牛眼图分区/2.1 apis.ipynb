{
 "cells": [
  {
   "cell_type": "code",
   "execution_count": 1,
   "metadata": {},
   "outputs": [],
   "source": [
    "import os\n",
    "import json\n",
    "import numpy as np"
   ]
  },
  {
   "cell_type": "code",
   "execution_count": 3,
   "metadata": {},
   "outputs": [],
   "source": [
    "from cardiac.cadc_perfusion import gen_defect_extent_bull_eye_map, gen_defect_severity_bull_eye_map,gen_score_bull_eye\n",
    "from cardiac.cadc_perfusion import cal_defect_extent, cal_defect_severity,cal_tdp, cal_categoric_scores\n",
    "\n",
    "base_dir = r'./'\n",
    "normal_limits_dir = os.path.join(base_dir, 'normal_limits')"
   ]
  },
  {
   "cell_type": "code",
   "execution_count": 3,
   "metadata": {},
   "outputs": [],
   "source": []
  },
  {
   "cell_type": "code",
   "execution_count": 4,
   "metadata": {},
   "outputs": [],
   "source": [
    "def load_segments(base_dir=os.path.join(base_dir, 'segment_img')):\n",
    "    segment17 = np.load(os.path.join(base_dir, 'segment17.npy')).astype(np.float32)\n",
    "    segment_coronary_artery = np.load(os.path.join(base_dir,  'segment_coronary_artery.npy')).astype(np.float32)\n",
    "    segment_myocardial_wall = np.load(os.path.join(base_dir,  'segment_myocardial_wall.npy')).astype(np.float32)\n",
    "\n",
    "    return segment17, segment_coronary_artery, segment_myocardial_wall\n",
    "\n",
    "\n",
    "def calculate_segment_categoric_scores(patient_be, limits_type='male_rest'):\n",
    "    normal_limits = np.load(os.path.join(normal_limits_dir,  f'{limits_type}_normal_limits.npy')).astype(np.float32)\n",
    "    # normal_limits_sd = np.load(os.path.join(normal_limits_dir,  f'{limits_type}_sd.npy')).astype(np.float32)\n",
    "\n",
    "    segment17, segment_coronary_artery, segment_myocardial_wall = load_segments()\n",
    "\n",
    "    categoric_score_bull_eye = gen_score_bull_eye(patient_be, normal_limits)\n",
    "    categoric_scores_seg17 = cal_categoric_scores(categoric_score_bull_eye, segment17, False)\n",
    "    categoric_scores_cor = cal_categoric_scores(categoric_score_bull_eye, segment_coronary_artery, False)\n",
    "    categoric_scores_myo = cal_categoric_scores(categoric_score_bull_eye, segment_myocardial_wall, False)\n",
    "    return {\n",
    "        \"Segment17Score\":categoric_scores_seg17,\n",
    "        \"SegmentConoraryScore\":categoric_scores_cor,\n",
    "        \"SegmentMyocardiumScore\":categoric_scores_myo\n",
    "    }"
   ]
  },
  {
   "cell_type": "code",
   "execution_count": 6,
   "metadata": {},
   "outputs": [
    {
     "data": {
      "text/plain": [
       "{'LCX': {'EXT': 13.641188959660298, 'TPD': 0.6637437269091606},\n",
       " 'RCA': {'EXT': 15.251373046049851, 'TPD': 0.9096135385334492},\n",
       " 'LAD': {'EXT': 17.004747518342683, 'TPD': 1.6422359272837639},\n",
       " 'TOT': {'EXT': 15.824423185143498, 'TPD': 1.2395801953971386}}"
      ]
     },
     "execution_count": 6,
     "metadata": {},
     "output_type": "execute_result"
    }
   ],
   "source": [
    "\n",
    "\n",
    "map_dict={\n",
    "    1.0: 'LCX', \n",
    "    2.0: 'RCA',\n",
    "    3.0: 'LAD',\n",
    "    'total': 'TOT'\n",
    "}\n",
    "\n",
    "def calculate_conorary_score(patient_be, limits_type='male_rest', info=map_dict):\n",
    "    normal_limits = np.load(os.path.join(normal_limits_dir,  f'{limits_type}_normal_limits.npy')).astype(np.float32)\n",
    "    normal_limits_sd = np.load(os.path.join(normal_limits_dir,  f'{limits_type}_sd.npy')).astype(np.float32)\n",
    "\n",
    "    segment17, segment_coronary_artery, segment_myocardial_wall = load_segments()\n",
    "\n",
    "    defect_extent_bull_eye = gen_defect_extent_bull_eye_map(patient_be, normal_limits)\n",
    "    defect_extent_dict_cor = cal_defect_extent(defect_extent_bull_eye, segment_coronary_artery, False)\n",
    "\n",
    "    score_bull_eye = gen_score_bull_eye(patient_be, normal_limits)\n",
    "    tpd_dict_cor = cal_tdp(score_bull_eye, segment_coronary_artery, False)\n",
    "\n",
    "    # print(defect_extent_dict_cor)\n",
    "    res = {}\n",
    "    for key, name in map_dict.items():\n",
    "        res[name] = {\n",
    "            'EXT': defect_extent_dict_cor.get(key),\n",
    "            'TPD': tpd_dict_cor.get(key)\n",
    "        }\n",
    "    return res\n",
    "\n",
    "\n",
    "\n",
    "\n",
    "import SimpleITK as sitk\n",
    "\n",
    "commercial_software_gen_cad_bull_eye = sitk.GetArrayFromImage(sitk.ReadImage(os.path.join(base_dir, 'perfusion_demo_img', 'BullEye_cad'))).astype(np.float32)[1]\n",
    "\n",
    "calculate_conorary_score(commercial_software_gen_cad_bull_eye)\n",
    "\n",
    "\n",
    "\n",
    "\n"
   ]
  },
  {
   "cell_type": "code",
   "execution_count": 7,
   "metadata": {},
   "outputs": [
    {
     "data": {
      "text/plain": [
       "{'Area': 105,\n",
       " 'Defect': 16.615644344400675,\n",
       " 'Extent': 15.824423185143498,\n",
       " 'TPD': 1.2395801953971386}"
      ]
     },
     "execution_count": 7,
     "metadata": {},
     "output_type": "execute_result"
    }
   ],
   "source": [
    "def calculate_IschemiaResult(patient_be, limits_type='male_rest', info=map_dict):\n",
    "    res = calculate_conorary_score(patient_be, limits_type, info)\n",
    "    return {\n",
    "        'Area': 105,\n",
    "        'Defect': res['TOT']['EXT']*105/100,\n",
    "        'Extent': res['TOT']['EXT'],\n",
    "        'TPD': res['TOT']['TPD']\n",
    "    }\n",
    "    # return \n",
    "\n",
    "calculate_IschemiaResult(commercial_software_gen_cad_bull_eye)"
   ]
  },
  {
   "cell_type": "code",
   "execution_count": null,
   "metadata": {},
   "outputs": [],
   "source": []
  },
  {
   "cell_type": "code",
   "execution_count": null,
   "metadata": {},
   "outputs": [],
   "source": []
  }
 ],
 "metadata": {
  "kernelspec": {
   "display_name": "base",
   "language": "python",
   "name": "python3"
  },
  "language_info": {
   "codemirror_mode": {
    "name": "ipython",
    "version": 3
   },
   "file_extension": ".py",
   "mimetype": "text/x-python",
   "name": "python",
   "nbconvert_exporter": "python",
   "pygments_lexer": "ipython3",
   "version": "3.9.12"
  }
 },
 "nbformat": 4,
 "nbformat_minor": 2
}
