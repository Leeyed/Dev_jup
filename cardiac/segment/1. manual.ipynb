{
 "cells": [
  {
   "cell_type": "code",
   "execution_count": 1,
   "metadata": {},
   "outputs": [],
   "source": [
    "import os\n",
    "import numpy as np\n",
    "import matplotlib.pyplot as plt\n",
    "import SimpleITK as sitk\n",
    "import cv2\n",
    "from PIL import Image\n",
    "import matplotlib.gridspec as gridspec\n",
    "\n",
    "DATA_COLLECTION = \"/mnt/labnas/DataCollection\"\n",
    "\n",
    "# base_dir = os.path.join(DATA_COLLECTION, \"Project\", \"RadiSmart\", \"cardiac\", \"healthy\")\n",
    "dst_dir = os.path.join(DATA_COLLECTION, \"Project\", \"RadiSmart\", \"cardiac\", \"healthy_nii\")"
   ]
  },
  {
   "cell_type": "code",
   "execution_count": 2,
   "metadata": {},
   "outputs": [],
   "source": [
    "def img_add_mask(img2d, mask2d):\n",
    "    _img2d = img2d.copy()\n",
    "    # 确保 mask 是二值图\n",
    "    _mask2d = mask2d.astype(np.uint8) * 255\n",
    "    \n",
    "    # 获取轮廓\n",
    "    contours, _ = cv2.findContours(_mask2d, cv2.RETR_TREE, cv2.CHAIN_APPROX_SIMPLE)\n",
    "    \n",
    "    cv2.drawContours(_img2d, contours, -1, (255), 1)  # 1 是线宽\n",
    "    \n",
    "    return _img2d\n",
    "\n",
    "\n",
    "def gen_report_img(img3d, mask3d):\n",
    "    fig = plt.figure(figsize=(10, 10))\n",
    "    gs = gridspec.GridSpec(8, 9)\n",
    "    \n",
    "    # for \n",
    "    # 其他子图\n",
    "    for i in range(8):\n",
    "        for j in range(9):\n",
    "            if i < 4 and j >= 7:  # 跳过右上角的大子图\n",
    "                continue\n",
    "            ax = fig.add_subplot(gs[i, j])\n",
    "            ax.plot([0, 1], [0, 1])  # 示例图形\n",
    "            # ax.set_title(f\"Subplot ({i},{j})\")\n",
    "\n",
    "    # 调整图形间距\n",
    "    plt.tight_layout()\n",
    "    plt.show()"
   ]
  },
  {
   "cell_type": "code",
   "execution_count": 3,
   "metadata": {},
   "outputs": [
    {
     "name": "stdout",
     "output_type": "stream",
     "text": [
      "(1024, 1024, 3) (60, 51, 60) (60, 51, 60)\n"
     ]
    }
   ],
   "source": [
    "for pid in os.listdir(dst_dir):\n",
    "    pid_dir = os.path.join(dst_dir, pid)\n",
    "    \n",
    "    # report\n",
    "    report_img = Image.open(os.path.join(pid_dir, \"report.png\"))\n",
    "    report_img = np.array(report_img)\n",
    "\n",
    "    # image3d\n",
    "    filenames = filter(lambda x: \"scaled\" in x, os.listdir(pid_dir))\n",
    "    fname = list(filenames)[0]\n",
    "    nii_path = os.path.join(pid_dir, fname)\n",
    "    sitk_img4d = sitk.ReadImage(nii_path)\n",
    "    img3d = sitk.GetArrayFromImage(sitk_img4d)[0]\n",
    "\n",
    "    # mask3d\n",
    "    sitk_mask3d = sitk.ReadImage(os.path.join(pid_dir, \"seg.nii.gz\"))\n",
    "    mask3d = sitk.GetArrayFromImage(sitk_mask3d)\n",
    "    \n",
    "    print(report_img.shape, img3d.shape, mask3d.shape)\n",
    "    \n",
    "    \n",
    "    \n",
    "    \n",
    "    \n",
    "    \n",
    "    break\n",
    "\n",
    "\n"
   ]
  },
  {
   "cell_type": "code",
   "execution_count": null,
   "metadata": {},
   "outputs": [],
   "source": []
  }
 ],
 "metadata": {
  "kernelspec": {
   "display_name": "py311",
   "language": "python",
   "name": "python3"
  },
  "language_info": {
   "codemirror_mode": {
    "name": "ipython",
    "version": 3
   },
   "file_extension": ".py",
   "mimetype": "text/x-python",
   "name": "python",
   "nbconvert_exporter": "python",
   "pygments_lexer": "ipython3",
   "version": "3.11.11"
  }
 },
 "nbformat": 4,
 "nbformat_minor": 2
}
