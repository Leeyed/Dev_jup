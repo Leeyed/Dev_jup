{
 "cells": [
  {
   "cell_type": "code",
   "execution_count": 26,
   "metadata": {},
   "outputs": [],
   "source": [
    "import os\n",
    "import numpy as np\n",
    "import matplotlib.pyplot as plt\n",
    "import SimpleITK as sitk\n",
    "\n",
    "from PIL import Image"
   ]
  },
  {
   "cell_type": "code",
   "execution_count": 25,
   "metadata": {},
   "outputs": [],
   "source": [
    "DATA_COLLECTION = \"/mnt/labnas/DataCollection\"\n",
    "\n",
    "base_dir = os.path.join(DATA_COLLECTION, \"Project\", \"RadiSmart\", \"cardiac\", \"healthy\")\n",
    "dst_dir = os.path.join(DATA_COLLECTION, \"Project\", \"RadiSmart\", \"cardiac\", \"healthy_nii\")"
   ]
  },
  {
   "cell_type": "code",
   "execution_count": 29,
   "metadata": {},
   "outputs": [
    {
     "name": "stdout",
     "output_type": "stream",
     "text": [
      "(1024, 1024, 3) uint8\n",
      "(1024, 1024, 3) uint8\n",
      "(1024, 1024, 3) uint8\n",
      "(1024, 1024, 3) uint8\n",
      "(1024, 1024, 3) uint8\n"
     ]
    }
   ],
   "source": [
    "for pid in os.listdir(base_dir):\n",
    "    pid_dir = os.path.join(base_dir, pid)\n",
    "    for filename in os.listdir(pid_dir):\n",
    "        dicom_path = os.path.join(pid_dir, filename)\n",
    "        # print('dicom_path', dicom_path)\n",
    "        \n",
    "        try:\n",
    "            # 如果是单个 DICOM 文件\n",
    "            sitk_img = sitk.ReadImage(dicom_path)\n",
    "            \n",
    "            title = sitk_img.GetMetaData('0008|103e')\n",
    "            # type_name = sitk_img.GetMetaData('0054|0400')\n",
    "        except:\n",
    "            continue\n",
    "        \n",
    "        # 这个空格很重要\n",
    "        if not title == \"ScreenCap \":\n",
    "            continue\n",
    "        \n",
    "        report_img = sitk.GetArrayFromImage(sitk_img)[0]\n",
    "        print(report_img.shape, report_img.dtype)\n",
    "        \n",
    "        out_dir = os.path.join(dst_dir, pid)\n",
    "        if not os.path.exists(out_dir):\n",
    "            os.makedirs(out_dir)\n",
    "\n",
    "        \n",
    "        # # 转换为 uint8 类型，因为图像的像素值通常是 0-255 之间的整数\n",
    "        report_img = report_img.astype(np.uint8)\n",
    "\n",
    "        # 保存为图片\n",
    "        image = Image.fromarray(report_img)\n",
    "        image.save(os.path.join(out_dir, \"report.png\"))\n",
    "        # image.show()\n",
    "\n",
    "\n",
    "\n",
    "\n",
    "\n"
   ]
  },
  {
   "cell_type": "code",
   "execution_count": null,
   "metadata": {},
   "outputs": [],
   "source": []
  }
 ],
 "metadata": {
  "kernelspec": {
   "display_name": "py311",
   "language": "python",
   "name": "python3"
  },
  "language_info": {
   "codemirror_mode": {
    "name": "ipython",
    "version": 3
   },
   "file_extension": ".py",
   "mimetype": "text/x-python",
   "name": "python",
   "nbconvert_exporter": "python",
   "pygments_lexer": "ipython3",
   "version": "3.11.11"
  }
 },
 "nbformat": 4,
 "nbformat_minor": 2
}
